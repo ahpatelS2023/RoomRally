import random
import datetime
import csv

# Generate random meeting titles
meeting_titles = ['Project Discussion', 'Team Meeting', 'Client Presentation', 'Training Session', 'Brainstorming Session', 'Interview']
rooms = ['RM102', 'RM104', 'RM105', 'RM103', 'RM106', 'RM101', 'RM107', 'RM108', 'RM109', 'RM110']

# Generate random start and end times for meetings within specified time range and weekdays
def generate_random_times():
    # Generate a random date within 2024
    year = 2024
    month = random.randint(1, 12)
    day = random.randint(1, 28)
    # Create a datetime object for the generated date
    date = datetime.datetime(year, month, day)
    # Loop until we get a weekday (0: Monday, 1: Tuesday, ..., 4: Friday)
    while date.weekday() >= 5:  # 5 and 6 correspond to Saturday and Sunday
        month = random.randint(1, 12)
        day = random.randint(1, 28)
        date = datetime.datetime(year, month, day)
    # Generate random start time between 9am and 4pm
    start_hour = random.randint(9, 16)
    start_minute = random.choice([0, 15, 30, 45])
    start_time = datetime.datetime(year, month, day, start_hour, start_minute)
    # Generate random end time between start time and 5pm
    end_hour = start_hour + 1
    end_minute = random.choice([0, 15, 30, 45])
    end_time = datetime.datetime(year, month, day, end_hour, end_minute)
    return start_time, end_time


# Generate dummy meeting data
def generate_dummy_meetings(num_meetings):
    meetings = []
    for _ in range(num_meetings):
        start_time, end_time = generate_random_times()
        num_attendees = random.randint(2, 12)
        if num_attendees <= 4:
            room = f'RM{random.randint(101, 103)}'
        elif num_attendees <= 10:
            room = f'RM{random.randint(104, 108)}'
        else:
            room = f'RM{random.randint(108, 110)}'
        meeting = {
            'Event Title': random.choice(meeting_titles),
            'Start Time': start_time.strftime('%Y-%m-%d %H:%M:%S'),
            'End Time': end_time.strftime('%Y-%m-%d %H:%M:%S'),
            'Attendees': num_attendees,
            'Room': room,
            'Description': 'sample meeting',
            'Canceled': random.choice([True, False])
        }
        meetings.append(meeting)
    return meetings

# Write dummy meeting data to CSV file
def write_dummy_meetings_to_csv(meetings, filename):
    with open(filename, 'w', newline='') as csvfile:
        fieldnames = ['Event Title', 'Start Time', 'End Time', 'Attendees', 'Room', 'Description', 'Canceled']
        writer = csv.DictWriter(csvfile, fieldnames=fieldnames)
        writer.writeheader()
        for meeting in meetings:
            writer.writerow(meeting)

# Generate 50,000 dummy meetings
dummy_meetings = generate_dummy_meetings(50000)

# Write to CSV file
write_dummy_meetings_to_csv(dummy_meetings, 'dummy_meetings.csv')
